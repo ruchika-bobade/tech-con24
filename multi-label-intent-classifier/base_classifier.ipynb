{
 "cells": [
  {
   "cell_type": "code",
   "execution_count": null,
   "id": "33d3c141-6efa-4761-a711-a140b866aad8",
   "metadata": {},
   "outputs": [],
   "source": [
    "import numpy as np \n",
    "import pandas as pd \n",
    "\n",
    "from statistics import mean\n",
    "\n",
    "import string\n",
    "\n",
    "from sklearn.model_selection import train_test_split\n",
    "from sklearn.feature_extraction import _stop_words\n",
    "from sklearn.feature_extraction.text import CountVectorizer\n",
    "from sklearn.feature_extraction.text import TfidfVectorizer\n",
    "from sklearn.metrics import roc_auc_score\n",
    "from sklearn.multiclass import OneVsRestClassifier \n",
    "from sklearn.svm import SVC \n",
    "\n",
    "import matplotlib.pyplot as plt\n",
    "import seaborn as sns\n",
    "\n",
    "pd.options.display.float_format = \"{:,.2f}\".format"
   ]
  },
  {
   "cell_type": "code",
   "execution_count": null,
   "id": "4c800b26-56ba-4e91-a09f-aa279a94b76e",
   "metadata": {},
   "outputs": [],
   "source": [
    "train_text = pd.read_csv(\"train2.csv\")"
   ]
  },
  {
   "cell_type": "code",
   "execution_count": null,
   "id": "00ea4a5f-074e-427b-9542-649e11de4991",
   "metadata": {},
   "outputs": [],
   "source": [
    "y_cols = [\"support\",\"storage\",\"aruba\", \"devices-sub\", \"Services\"]\n",
    "train_text[y_cols].apply(pd.Series.value_counts, args = (True, True, False, None, False))"
   ]
  },
  {
   "cell_type": "code",
   "execution_count": null,
   "id": "2235ed87-c68c-4645-8fad-fecb946ec7bb",
   "metadata": {},
   "outputs": [],
   "source": [
    "X = train_text[\"query\"]\n",
    "y = train_text[[\"support\",\"storage\",\"aruba\", \"devices-sub\", \"Services\"]]\n",
    "from sklearn.preprocessing import LabelEncoder\n",
    "le = LabelEncoder()\n",
    "y = y.apply(le.fit_transform)\n",
    "X_train, X_val, y_train, y_val = train_test_split(X, y, stratify=y, test_size=0.2,random_state=0)"
   ]
  },
  {
   "cell_type": "code",
   "execution_count": null,
   "id": "907e4abe-dba0-4342-8fe6-50d32a97fcd5",
   "metadata": {},
   "outputs": [],
   "source": [
    "stop_words = _stop_words.ENGLISH_STOP_WORDS\n",
    "def clean(doc):\n",
    "    doc = \"\".join([char for char in doc if char not in string.punctuation and not char.isdigit()])\n",
    "    doc = \" \".join([token for token in doc.split() if token not in stop_words])\n",
    "    return doc.lower()"
   ]
  },
  {
   "cell_type": "code",
   "execution_count": null,
   "id": "cd7b754f-1222-433a-99d9-393d972d3be1",
   "metadata": {},
   "outputs": [],
   "source": [
    "vect = TfidfVectorizer(max_features= 3000, preprocessor=clean)\n",
    "X_train_dtm = vect.fit_transform(X_train)\n",
    "X_val_dtm = vect.transform(X_val)"
   ]
  },
  {
   "cell_type": "code",
   "execution_count": null,
   "id": "0a84d249-d8dd-463b-9188-ce57052f63f7",
   "metadata": {},
   "outputs": [],
   "source": [
    "pd.DataFrame(X_train_dtm.A[:5], columns = vect.get_feature_names_out())"
   ]
  },
  {
   "cell_type": "code",
   "execution_count": null,
   "id": "27406f8f-300c-4c6d-8abf-ee03b0375734",
   "metadata": {},
   "outputs": [],
   "source": [
    "\n",
    "model = OneVsRestClassifier(SVC(probability=True))\n",
    "lr = model.fit(X_train_dtm, y_train)"
   ]
  },
  {
   "cell_type": "code",
   "execution_count": null,
   "id": "1f77ec55-15f6-4b16-aa31-6bd27d270c27",
   "metadata": {},
   "outputs": [],
   "source": [
    "def calculate_roc_auc(y_test, y_pred):\n",
    "    aucs = []\n",
    "    #Calculate the ROC-AUC for each of the target column\n",
    "    for col in range(y_test.shape[1]):\n",
    "        aucs.append(roc_auc_score(y_test[:,col],y_pred[:,col]))\n",
    "    return aucs"
   ]
  },
  {
   "cell_type": "code",
   "execution_count": null,
   "id": "8fb15110-23f8-41de-9335-6c3b9af10448",
   "metadata": {},
   "outputs": [],
   "source": [
    "test_text = pd.read_csv(\"test1.csv\")"
   ]
  },
  {
   "cell_type": "code",
   "execution_count": null,
   "id": "12a5ed3d-4a28-48f0-893f-270a707b6524",
   "metadata": {},
   "outputs": [],
   "source": [
    "X_test_dtm = vect.transform(test_text[\"query\"])\n",
    "y_preds = lr.predict_proba(X_test_dtm)\n",
    "# y_preds = np.transpose(np.array(lr.predict_proba(X_test_dtm)))\n",
    "# #Assign the predictions by the model in the final test dataset\n",
    "\n",
    "test_text[y_cols] = y_preds\n",
    "\n",
    "test_text"
   ]
  },
  {
   "cell_type": "code",
   "execution_count": null,
   "id": "0fb1436e-bb14-4b9f-a1c2-cb18ee6afb7a",
   "metadata": {},
   "outputs": [],
   "source": [
    "column_names = [\"support\",\"storage\",\"aruba\", \"devices-sub\", \"Services\"]\n",
    "test_query = \"VG2406042959\"\n",
    "X_test_dtm = vect.transform([test_query])\n",
    "#Use the Logistic Regression model to output probabilities and take the probability for class 1\n",
    "y_preds = lr.predict_proba(X_test_dtm)\n",
    "# y_preds = np.transpose(np.array(lr.predict_proba(X_test_dtm))[:,:,1])\n",
    "res = pd.DataFrame(y_preds, index=[test_query], columns=column_names)\n",
    "res"
   ]
  }
 ],
 "metadata": {
  "kernelspec": {
   "display_name": "Python 3 (ipykernel)",
   "language": "python",
   "name": "python3"
  },
  "language_info": {
   "codemirror_mode": {
    "name": "ipython",
    "version": 3
   },
   "file_extension": ".py",
   "mimetype": "text/x-python",
   "name": "python",
   "nbconvert_exporter": "python",
   "pygments_lexer": "ipython3",
   "version": "3.10.0"
  }
 },
 "nbformat": 4,
 "nbformat_minor": 5
}
